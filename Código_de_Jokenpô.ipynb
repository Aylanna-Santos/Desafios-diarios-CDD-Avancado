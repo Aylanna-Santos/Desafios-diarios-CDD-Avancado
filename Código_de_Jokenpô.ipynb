{
  "cells": [
    {
      "cell_type": "markdown",
      "metadata": {
        "id": "view-in-github",
        "colab_type": "text"
      },
      "source": [
        "<a href=\"https://colab.research.google.com/github/Aylanna-Santos/Desafios-diarios-CDD-Avancado/blob/main/C%C3%B3digo_de_Jokenp%C3%B4.ipynb\" target=\"_parent\"><img src=\"https://colab.research.google.com/assets/colab-badge.svg\" alt=\"Open In Colab\"/></a>"
      ]
    },
    {
      "cell_type": "code",
      "execution_count": 11,
      "metadata": {
        "colab": {
          "base_uri": "https://localhost:8080/"
        },
        "id": "T0-gjzprn08N",
        "outputId": "68c671cb-6e90-4aaa-9add-c9541b7a8f55"
      },
      "outputs": [
        {
          "output_type": "stream",
          "name": "stdout",
          "text": [
            "Deseja jogar pedra, papel e tesoura?\n",
            "Digite 'sim' para jogar\n",
            "'não'para sair.não\n",
            "\n",
            "Até o proximo jogo\n"
          ]
        }
      ],
      "source": [
        "# Pedra, Papel e Tesoura ou jokenpô\n",
        "# Contadores do while e para indicar quantas vitórias e empates houveram\n",
        "cont = 0\n",
        "jogo = 0\n",
        "empate = 0\n",
        "vitoria1 = 0\n",
        "vitoria2 = 0\n",
        "\n",
        "while cont == 0:\n",
        "  jogo = input(\"Deseja jogar pedra, papel e tesoura?\\n\"\n",
        "                  \"Digite 'sim' para jogar\\n\"\n",
        "                  \"'não'para sair.\").lower()\n",
        "  print()\n",
        "  if jogo != \"sim\"  and jogo != \"não\":\n",
        "    print(\"Digite uma resposta válida!\\n\")\n",
        "\n",
        "  elif jogo == \"não\":\n",
        "    print(\"Até o proximo jogo\")\n",
        "    cont = 1\n",
        "\n",
        "  elif jogo == \"sim\":\n",
        "    nickname1 = input(\"Digite seu nickname: \").capitalize()\n",
        "    nickname2 = input(\"Digite seu nickname: \").capitalize()\n",
        "    print()\n",
        "# Um 'for' para fazer uma partida com 3 rodadas\n",
        "    for x in range(1, 4):\n",
        "      jogador1 = input(f\"{nickname1} escolha pedra, papel ou tesoura: \").lower()\n",
        "      print()\n",
        "      while jogador1 != \"pedra\" and jogador1 != \"papel\" and jogador1 != \"tesoura\":\n",
        "          print(\"Não existe essa opção digite novamente\")\n",
        "          jogador1 = input(f\"{nickname1} escolha pedra, papel ou tesoura: \").lower()\n",
        "          print()\n",
        "\n",
        "      jogador2 = input(f\"{nickname2} escolha pedra, papel ou tesoura: \").lower()\n",
        "      print()\n",
        "      while jogador2 != \"pedra\" and jogador2 != \"papel\" and jogador2 != \"tesoura\":\n",
        "          print(\"Não existe essa opção digite novamente\")\n",
        "          jogador2 = input(f\"{nickname2} escolha pedra, papel ou tesoura: \").lower()\n",
        "          print()\n",
        "\n",
        "      if jogador1 == \"pedra\" and jogador2 == \"pedra\":\n",
        "        print(f\"A partida {x} empatou\\n\")\n",
        "        empate += 1\n",
        "      elif jogador1 == \"papel\" and jogador2 == \"papel\":\n",
        "        print(f\"A partida {x} empatou\\n\")\n",
        "        empate += 1\n",
        "      elif jogador1 == \"tesoura\" and jogador2 == \"tesoura\":\n",
        "        print(f\"A partida {x} empatou\\n\")\n",
        "        empate += 1\n",
        "\n",
        "      elif jogador1 == \"papel\" and jogador2 == \"pedra\":\n",
        "        print(f\"{nickname1} ganhou a partida {x}\\n\")\n",
        "        vitoria1 += 1\n",
        "      elif jogador1 == \"tesoura\" and jogador2 == \"papel\":\n",
        "        print(f\"{nickname1} ganhou a partida {x}\\n\")\n",
        "        vitoria1 += 1\n",
        "      elif jogador1 == \"pedra\" and jogador2 == \"tesoura\":\n",
        "        print(f\"{nickname1} ganhou a partida {x}\\n\")\n",
        "        vitoria1 += 1\n",
        "\n",
        "      elif jogador2 == \"papel\" and jogador1 == \"pedra\":\n",
        "        print(f\"{nickname2} ganhou a partida {x}\\n\")\n",
        "        vitoria2 += 1\n",
        "      elif jogador2 == \"tesoura\" and jogador1 == \"papel\":\n",
        "        print(f\"{nickname2} ganhou a partida {x}\\n\")\n",
        "        vitoria2 += 1\n",
        "      elif jogador2 == \"pedra\" and jogador1 == \"tesoura\":\n",
        "        print(f\"{nickname2} ganhou a partida {x}\\n\")\n",
        "        vitoria2 += 1\n",
        "\n",
        "    print(f\"Pontuação final:\\n\"\n",
        "          f\"Empates: {empate}\\n\"\n",
        "          f\"Vitórias de {nickname1}: {vitoria1}\\n\"\n",
        "          f\"Vitórias de {nickname2}: {vitoria2}\\n\")"
      ]
    }
  ],
  "metadata": {
    "colab": {
      "provenance": [],
      "authorship_tag": "ABX9TyMmtvYxInHxBYRnUl1BJCJP",
      "include_colab_link": true
    },
    "kernelspec": {
      "display_name": "Python 3",
      "name": "python3"
    },
    "language_info": {
      "name": "python"
    }
  },
  "nbformat": 4,
  "nbformat_minor": 0
}